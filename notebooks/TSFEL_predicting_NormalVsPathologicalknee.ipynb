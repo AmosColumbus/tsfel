{
 "cells": [
  {
   "cell_type": "markdown",
   "metadata": {
    "colab_type": "text",
    "id": "4n_c2DADj-6y"
   },
   "source": [
    "# TSFEL predicting Normal Vs. Pathological knee\n",
    "\n",
    "To perform this example every cell must be executed. To do so click run ([  ]) in the top left of every cell.\n",
    "\n",
    "The first step consists of importing TSFEL library. To do so press play. \n",
    "\n",
    "The import can take few seconds, but the run button will change so that you know that the import has started and ended.\n",
    "\n",
    "A warning will appear to reset all runtimes before running, click to accept."
   ]
  },
  {
   "cell_type": "code",
   "execution_count": 1,
   "metadata": {
    "colab": {
     "base_uri": "https://localhost:8080/",
     "height": 1000
    },
    "colab_type": "code",
    "executionInfo": {
     "elapsed": 25663,
     "status": "ok",
     "timestamp": 1586777469202,
     "user": {
      "displayName": "Leticia Fernandes",
      "photoUrl": "https://lh3.googleusercontent.com/a-/AOh14Gj3U_hSW1M2-Ab0tHYcZEiOzvFIfJrkA-pccFhU=s64",
      "userId": "17109198128714142667"
     },
     "user_tz": -60
    },
    "id": "yQblfSnCkD19",
    "outputId": "53de2f4b-e4c9-465f-c6e9-26f978962fa2"
   },
   "outputs": [
    {
     "name": "stdout",
     "output_type": "stream",
     "text": [
      "Collecting https://github.com/fraunhoferportugal/tsfel/archive/v0.1.3-dev.zip\n",
      "  Using cached https://github.com/fraunhoferportugal/tsfel/archive/v0.1.3-dev.zip\n",
      "Requirement already satisfied (use --upgrade to upgrade): tsfel==0.1.3.dev0 from https://github.com/fraunhoferportugal/tsfel/archive/v0.1.3-dev.zip in c:\\users\\letic\\anaconda3\\lib\\site-packages\n",
      "Requirement already satisfied: gspread>=3.1.0 in c:\\users\\letic\\anaconda3\\lib\\site-packages (from tsfel==0.1.3.dev0) (3.1.0)\n",
      "Requirement already satisfied: matplotlib>=3.1.0 in c:\\users\\letic\\anaconda3\\lib\\site-packages (from tsfel==0.1.3.dev0) (3.1.2)\n",
      "Requirement already satisfied: numpy>=1.17.4 in c:\\users\\letic\\anaconda3\\lib\\site-packages (from tsfel==0.1.3.dev0) (1.17.4)\n",
      "Requirement already satisfied: oauth2client>=4.1.3 in c:\\users\\letic\\anaconda3\\lib\\site-packages (from tsfel==0.1.3.dev0) (4.1.3)\n",
      "Requirement already satisfied: pandas>=0.24.2 in c:\\users\\letic\\anaconda3\\lib\\site-packages (from tsfel==0.1.3.dev0) (0.25.3)\n",
      "Requirement already satisfied: scipy>=1.4.0 in c:\\users\\letic\\anaconda3\\lib\\site-packages (from tsfel==0.1.3.dev0) (1.4.1)\n",
      "Requirement already satisfied: setuptools>=41.0.1 in c:\\users\\letic\\anaconda3\\lib\\site-packages (from tsfel==0.1.3.dev0) (45.1.0)\n",
      "Requirement already satisfied: requests>=2.2.1 in c:\\users\\letic\\anaconda3\\lib\\site-packages (from gspread>=3.1.0->tsfel==0.1.3.dev0) (2.21.0)\n",
      "Requirement already satisfied: python-dateutil>=2.1 in c:\\users\\letic\\anaconda3\\lib\\site-packages (from matplotlib>=3.1.0->tsfel==0.1.3.dev0) (2.8.1)\n",
      "Requirement already satisfied: cycler>=0.10 in c:\\users\\letic\\anaconda3\\lib\\site-packages (from matplotlib>=3.1.0->tsfel==0.1.3.dev0) (0.10.0)\n",
      "Requirement already satisfied: kiwisolver>=1.0.1 in c:\\users\\letic\\anaconda3\\lib\\site-packages (from matplotlib>=3.1.0->tsfel==0.1.3.dev0) (1.0.1)\n",
      "Requirement already satisfied: pyparsing!=2.0.4,!=2.1.2,!=2.1.6,>=2.0.1 in c:\\users\\letic\\anaconda3\\lib\\site-packages (from matplotlib>=3.1.0->tsfel==0.1.3.dev0) (2.3.1)\n",
      "Requirement already satisfied: pyasn1>=0.1.7 in c:\\users\\letic\\anaconda3\\lib\\site-packages (from oauth2client>=4.1.3->tsfel==0.1.3.dev0) (0.4.5)\n",
      "Requirement already satisfied: httplib2>=0.9.1 in c:\\users\\letic\\anaconda3\\lib\\site-packages (from oauth2client>=4.1.3->tsfel==0.1.3.dev0) (0.13.0)\n",
      "Requirement already satisfied: pyasn1-modules>=0.0.5 in c:\\users\\letic\\anaconda3\\lib\\site-packages (from oauth2client>=4.1.3->tsfel==0.1.3.dev0) (0.2.5)\n",
      "Requirement already satisfied: rsa>=3.1.4 in c:\\users\\letic\\anaconda3\\lib\\site-packages (from oauth2client>=4.1.3->tsfel==0.1.3.dev0) (4.0)\n",
      "Requirement already satisfied: six>=1.6.1 in c:\\users\\letic\\anaconda3\\lib\\site-packages (from oauth2client>=4.1.3->tsfel==0.1.3.dev0) (1.12.0)\n",
      "Requirement already satisfied: pytz>=2017.2 in c:\\users\\letic\\anaconda3\\lib\\site-packages (from pandas>=0.24.2->tsfel==0.1.3.dev0) (2018.9)\n",
      "Requirement already satisfied: idna<2.9,>=2.5 in c:\\users\\letic\\anaconda3\\lib\\site-packages (from requests>=2.2.1->gspread>=3.1.0->tsfel==0.1.3.dev0) (2.8)\n",
      "Requirement already satisfied: certifi>=2017.4.17 in c:\\users\\letic\\anaconda3\\lib\\site-packages (from requests>=2.2.1->gspread>=3.1.0->tsfel==0.1.3.dev0) (2019.3.9)\n",
      "Requirement already satisfied: urllib3<1.25,>=1.21.1 in c:\\users\\letic\\anaconda3\\lib\\site-packages (from requests>=2.2.1->gspread>=3.1.0->tsfel==0.1.3.dev0) (1.24.1)\n",
      "Requirement already satisfied: chardet<3.1.0,>=3.0.2 in c:\\users\\letic\\anaconda3\\lib\\site-packages (from requests>=2.2.1->gspread>=3.1.0->tsfel==0.1.3.dev0) (3.0.4)\n",
      "Building wheels for collected packages: tsfel\n",
      "  Building wheel for tsfel (setup.py): started\n",
      "  Building wheel for tsfel (setup.py): finished with status 'done'\n",
      "  Stored in directory: C:\\Users\\letic\\AppData\\Local\\pip\\Cache\\wheels\\b8\\15\\68\\c1dcf7d4d101d5aa781a2d082b6fb0730676228bd8cfd2a5d9\n",
      "Successfully built tsfel\n",
      "Requirement already satisfied: pandas_profiling in c:\\users\\letic\\anaconda3\\lib\\site-packages (1.4.3)\n",
      "Requirement already satisfied: matplotlib>=1.4 in c:\\users\\letic\\anaconda3\\lib\\site-packages (from pandas_profiling) (3.1.2)\n",
      "Requirement already satisfied: six>=1.9 in c:\\users\\letic\\anaconda3\\lib\\site-packages (from pandas_profiling) (1.12.0)\n",
      "Requirement already satisfied: pandas>=0.19 in c:\\users\\letic\\anaconda3\\lib\\site-packages (from pandas_profiling) (0.25.3)\n",
      "Requirement already satisfied: jinja2>=2.8 in c:\\users\\letic\\anaconda3\\lib\\site-packages (from pandas_profiling) (2.10)\n",
      "Requirement already satisfied: numpy>=1.11 in c:\\users\\letic\\anaconda3\\lib\\site-packages (from matplotlib>=1.4->pandas_profiling) (1.17.4)\n",
      "Requirement already satisfied: python-dateutil>=2.1 in c:\\users\\letic\\anaconda3\\lib\\site-packages (from matplotlib>=1.4->pandas_profiling) (2.8.1)\n",
      "Requirement already satisfied: pyparsing!=2.0.4,!=2.1.2,!=2.1.6,>=2.0.1 in c:\\users\\letic\\anaconda3\\lib\\site-packages (from matplotlib>=1.4->pandas_profiling) (2.3.1)\n",
      "Requirement already satisfied: kiwisolver>=1.0.1 in c:\\users\\letic\\anaconda3\\lib\\site-packages (from matplotlib>=1.4->pandas_profiling) (1.0.1)\n",
      "Requirement already satisfied: cycler>=0.10 in c:\\users\\letic\\anaconda3\\lib\\site-packages (from matplotlib>=1.4->pandas_profiling) (0.10.0)\n",
      "Requirement already satisfied: pytz>=2017.2 in c:\\users\\letic\\anaconda3\\lib\\site-packages (from pandas>=0.19->pandas_profiling) (2018.9)\n",
      "Requirement already satisfied: MarkupSafe>=0.23 in c:\\users\\letic\\anaconda3\\lib\\site-packages (from jinja2>=2.8->pandas_profiling) (1.1.1)\n",
      "Requirement already satisfied: setuptools in c:\\users\\letic\\anaconda3\\lib\\site-packages (from kiwisolver>=1.0.1->matplotlib>=1.4->pandas_profiling) (45.1.0)\n",
      "Requirement already satisfied: patool in c:\\users\\letic\\anaconda3\\lib\\site-packages (1.12)\n",
      "Requirement already satisfied: wget in c:\\users\\letic\\anaconda3\\lib\\site-packages (3.2)\n",
      "100% [........................................................................] 14440981 / 14440981"
     ]
    }
   ],
   "source": [
    "#@title Import Time Series Feature Extraction Library\n",
    "import warnings\n",
    "warnings.filterwarnings('ignore')\n",
    "!pip install https://github.com/fraunhoferportugal/tsfel/archive/v0.1.3-dev.zip\n",
    "!pip install pandas_profiling\n",
    "!pip install patool\n",
    "from sys import platform\n",
    "if platform == \"linux\" or platform == \"linux2\":\n",
    "    !wget http://archive.ics.uci.edu/ml/machine-learning-databases/00278/SEMG_DB1.rar\n",
    "else:\n",
    "    !pip install wget\n",
    "    import wget\n",
    "    wget.download('http://archive.ics.uci.edu/ml/machine-learning-databases/00278/SEMG_DB1.rar');"
   ]
  },
  {
   "cell_type": "code",
   "execution_count": 2,
   "metadata": {
    "colab": {},
    "colab_type": "code",
    "id": "2eDU5SCbkHqn"
   },
   "outputs": [
    {
     "name": "stdout",
     "output_type": "stream",
     "text": [
      "patool: Extracting SEMG_DB1.rar ...\n",
      "patool: running \"C:\\Program Files\\WinRAR\\rar.EXE\" x -- \"C:\\Users\\letic\\OneDrive\\Área de Trabalho\\notebook_test\\SEMG_DB1.rar\"\n",
      "patool:     with cwd=.\\Unpack_44s01kgj\n",
      "patool: ... SEMG_DB1.rar extracted to `SEMG_DB1' (multiple files in root).\n"
     ]
    }
   ],
   "source": [
    "# Import libraries\n",
    "import glob\n",
    "import itertools\n",
    "import patoolib\n",
    "\n",
    "import matplotlib.pyplot as plt\n",
    "import numpy as np\n",
    "import pandas as pd\n",
    "import seaborn as sns\n",
    "import scipy.interpolate as interp\n",
    "import tsfel\n",
    "from sklearn import preprocessing\n",
    "from sklearn.feature_selection import VarianceThreshold\n",
    "from sklearn.metrics import classification_report, accuracy_score, confusion_matrix\n",
    "from sklearn.tree import DecisionTreeClassifier\n",
    "\n",
    "# Unzip dataset\n",
    "patoolib.extract_archive(\"SEMG_DB1.rar\");"
   ]
  },
  {
   "cell_type": "markdown",
   "metadata": {
    "colab_type": "text",
    "id": "BJwehz1elgs5"
   },
   "source": [
    "### Data pre-processing###\n",
    "Method to interpolate each file data (EMG and goniometer signals) to the same sample size."
   ]
  },
  {
   "cell_type": "code",
   "execution_count": 3,
   "metadata": {
    "colab": {},
    "colab_type": "code",
    "id": "B_eVbl_Yk5IQ"
   },
   "outputs": [],
   "source": [
    "def preprocess(data):\n",
    "    \"\"\"Interpolating the EMG and goniometer to the same sample size\n",
    "\n",
    "      Parameters\n",
    "      ----------\n",
    "      data list of pandas DataFrame\n",
    "        EMG and gonomioter signals for a given activity\n",
    "      Returns\n",
    "      -------\n",
    "        Interpolated data (list of nd-array)\n",
    "\n",
    "    \"\"\"\n",
    "    data = [interp.interp1d(np.arange(len(x[0].dropna())), x[0].dropna(), axis=0, kind='nearest')(np.linspace(0, len(x[0].dropna()) - 1, len(x[0].iloc[:, 0].dropna()))) for x in data]\n",
    "    return data"
   ]
  },
  {
   "cell_type": "markdown",
   "metadata": {
    "colab_type": "text",
    "id": "igDQuS4alnmr"
   },
   "source": [
    "## Dataset\n",
    "\n",
    "The dataset was acquired by Batallón de sanidad (BASAN) in collaboration with the Universidad Militar Nueva Granada – Bogotá. The protocol was performed by 22 male subjects, 11 with different knee abnormalities previously diagnosed by a professional and other 11 without any known knee pathology. The participants were required to perform 3 different exercises: (1) **walk**, (2) **extension of the leg from the sit position** and (3) **flexion of the knee stand up**.\n",
    "\n",
    "The acquisition process was conducted with 4 electrodes placed on the following muscles (vastus internus, semitendinosus, biceps femoris and rectus femoris) and a goniometer in the knee.\n",
    "\n",
    " \n",
    "**For this example, we will only be using files from the (2) activity and data from rectus femoris muscle and from the goniometer sensor. The classifier will predict if the participant has a normal or pathological knee.**"
   ]
  },
  {
   "cell_type": "code",
   "execution_count": 4,
   "metadata": {
    "colab": {},
    "colab_type": "code",
    "id": "wIbkHfvEllG5"
   },
   "outputs": [],
   "source": [
    "# @title Loading normal and pathological files from extension of the leg from the sit position\n",
    "normal_files = glob.glob(\"*/N_TXT/*.txt\")\n",
    "patholo_files = glob.glob(\"*/A_TXT/*.txt\")\n",
    "\n",
    "normalfl = [[pd.read_csv(fl, sep='\\t', skiprows=7, usecols=(0, 4), header=None).dropna()] for fl in\n",
    "            normal_files if\n",
    "            'Npie' in fl]\n",
    "\n",
    "patholofl = [[pd.read_csv(fl, sep='\\t', skiprows=7, usecols=(0, 4), header=None).dropna()] for fl in\n",
    "             patholo_files if 'Apie' in fl]"
   ]
  },
  {
   "cell_type": "code",
   "execution_count": 5,
   "metadata": {
    "colab": {},
    "colab_type": "code",
    "id": "6v7igkKoltCl"
   },
   "outputs": [],
   "source": [
    "# @title Train and test set\n",
    "# dataset sampling frequency, according to dataset information\n",
    "fs = 1000\n",
    "# window size for window splitter method (each window has 1 seconds)\n",
    "window_size = 1000 \n",
    "\n",
    "# Interpolating data\n",
    "normalfl = preprocess(normalfl)\n",
    "patholofl = preprocess(patholofl)\n",
    "\n",
    "# Dividing into train and test sets. Splitting signal in windows\n",
    "# Using 2 normal files and 2 pathological files for test set\n",
    "x_train = list(itertools.chain(*[tsfel.signal_window_spliter(signal[i], window_size, overlap=0) for signal in\n",
    "                                 [normalfl, patholofl] for i in range(len(normalfl) - 2)]))\n",
    "\n",
    "x_test = list(itertools.chain(*[tsfel.signal_window_spliter(signal[i], window_size, overlap=0) for signal in\n",
    "                                [normalfl, patholofl] for i in [len(normalfl) - 2, len(normalfl) - 1]]))\n",
    "\n",
    "y_train = np.concatenate(\n",
    "    (np.repeat(0, np.cumsum([int(len(normalfl[i]) / window_size) for i in range(len(normalfl) - 2)])[-1]),\n",
    "     np.repeat(1, np.cumsum([int(len(patholofl[i]) / window_size) for i in range(len(patholofl) - 2)])[-1])))\n",
    "\n",
    "y_test = np.concatenate((np.repeat(0, np.cumsum([int(len(normalfl[i]) / window_size) for i in [len(normalfl) - 2, len(normalfl) - 1]])[-1]),\n",
    "                         np.repeat(1, np.cumsum([int(len(patholofl[i]) / window_size) for i in [len(patholofl) - 2, len(patholofl) - 1]])[-1])))\n",
    "\n"
   ]
  },
  {
   "cell_type": "code",
   "execution_count": 6,
   "metadata": {
    "colab": {
     "base_uri": "https://localhost:8080/",
     "height": 599
    },
    "colab_type": "code",
    "executionInfo": {
     "elapsed": 2152,
     "status": "ok",
     "timestamp": 1586777487184,
     "user": {
      "displayName": "Leticia Fernandes",
      "photoUrl": "https://lh3.googleusercontent.com/a-/AOh14Gj3U_hSW1M2-Ab0tHYcZEiOzvFIfJrkA-pccFhU=s64",
      "userId": "17109198128714142667"
     },
     "user_tz": -60
    },
    "id": "Byr434P7lvkm",
    "outputId": "feed2286-9334-4a52-e3a0-1564f3ce8450"
   },
   "outputs": [
    {
     "data": {
      "image/png": "[encoded data removed]",
      "text/plain": [
       "<Figure size 432x288 with 2 Axes>"
      ]
     },
     "metadata": {
      "needs_background": "light"
     },
     "output_type": "display_data"
    },
    {
     "data": {
      "image/png": "[encoded data removed]",
      "text/plain": [
       "<Figure size 432x288 with 2 Axes>"
      ]
     },
     "metadata": {
      "needs_background": "light"
     },
     "output_type": "display_data"
    }
   ],
   "source": [
    "# @title Visualizing signals\n",
    "nsignal = np.concatenate(x_train[:50])\n",
    "asignal = np.concatenate(x_train[-50:])\n",
    "time = np.linspace(0, len(nsignal)* 1/fs, len(nsignal))\n",
    "c = ['orange', 'seagreen']\n",
    "title = ['Normal knee', 'Pathological knee']\n",
    "\n",
    "for i, signal in enumerate([nsignal, asignal]):\n",
    "    plt.figure(i)\n",
    "    plt.subplot(211)\n",
    "    plt.plot(time, signal[:, 0], color=c[i], label='rectus femoris (mv)')\n",
    "    plt.legend()\n",
    "    plt.subplot(212)\n",
    "    plt.plot(time, signal[:, 1], color=c[i], label='goniometer (degree)')\n",
    "    plt.legend()\n",
    "    plt.suptitle(title[i])\n",
    "\n",
    "    plt.xlabel(\"Time (s)\")"
   ]
  },
  {
   "cell_type": "code",
   "execution_count": 7,
   "metadata": {
    "colab": {
     "base_uri": "https://localhost:8080/",
     "height": 221
    },
    "colab_type": "code",
    "executionInfo": {
     "elapsed": 40167,
     "status": "ok",
     "timestamp": 1586777529356,
     "user": {
      "displayName": "Leticia Fernandes",
      "photoUrl": "https://lh3.googleusercontent.com/a-/AOh14Gj3U_hSW1M2-Ab0tHYcZEiOzvFIfJrkA-pccFhU=s64",
      "userId": "17109198128714142667"
     },
     "user_tz": -60
    },
    "id": "Z5-x4VIEmj_O",
    "outputId": "84b95291-3077-4380-85e5-c1bf83a61b4d"
   },
   "outputs": [
    {
     "name": "stdout",
     "output_type": "stream",
     "text": [
      "*** Feature extraction started ***\n"
     ]
    },
    {
     "data": {
      "text/html": [
       "\n",
       "              <p>\n",
       "                  Progress: 100% Complete\n",
       "              <p/>            \n",
       "              <progress\n",
       "                  value='331'\n",
       "                  max='331',\n",
       "                  style='width: 25%',\n",
       "              >\n",
       "                  331\n",
       "              </progress>\n",
       "\n",
       "    "
      ],
      "text/plain": [
       "<IPython.core.display.HTML object>"
      ]
     },
     "metadata": {},
     "output_type": "display_data"
    },
    {
     "name": "stdout",
     "output_type": "stream",
     "text": [
      "\n",
      "*** Feature extraction finished ***\n",
      "*** Feature extraction started ***\n"
     ]
    },
    {
     "data": {
      "text/html": [
       "\n",
       "              <p>\n",
       "                  Progress: 100% Complete\n",
       "              <p/>            \n",
       "              <progress\n",
       "                  value='77'\n",
       "                  max='77',\n",
       "                  style='width: 25%',\n",
       "              >\n",
       "                  77\n",
       "              </progress>\n",
       "\n",
       "    "
      ],
      "text/plain": [
       "<IPython.core.display.HTML object>"
      ]
     },
     "metadata": {},
     "output_type": "display_data"
    },
    {
     "name": "stdout",
     "output_type": "stream",
     "text": [
      "\n",
      "*** Feature extraction finished ***\n"
     ]
    }
   ],
   "source": [
    "# Extract all features' domains (spectral, statistical and temporal)\n",
    "cfg_file = tsfel.get_features_by_domain()\n",
    "X_train = tsfel.time_series_features_extractor(cfg_file, x_train, fs=fs, header_names = np.array(['emg', 'gon']))\n",
    "X_test = tsfel.time_series_features_extractor(cfg_file, x_test, fs=fs, header_names = np.array(['emg', 'gon']))"
   ]
  },
  {
   "cell_type": "code",
   "execution_count": 8,
   "metadata": {
    "colab": {},
    "colab_type": "code",
    "id": "_51u2ioEmm2I"
   },
   "outputs": [],
   "source": [
    "# @title Handling eventual missing values from the feature extraction\n",
    "X_train.replace([np.inf, -np.inf], np.nan, inplace=True)\n",
    "X_train.fillna(X_train.mean(), inplace=True)\n",
    "X_test.replace([np.inf, -np.inf], np.nan, inplace=True)\n",
    "X_test.fillna(X_test.mean(), inplace=True)"
   ]
  },
  {
   "cell_type": "code",
   "execution_count": 9,
   "metadata": {
    "colab": {
     "base_uri": "https://localhost:8080/",
     "height": 54
    },
    "colab_type": "code",
    "executionInfo": {
     "elapsed": 1809,
     "status": "ok",
     "timestamp": 1586777534384,
     "user": {
      "displayName": "Leticia Fernandes",
      "photoUrl": "https://lh3.googleusercontent.com/a-/AOh14Gj3U_hSW1M2-Ab0tHYcZEiOzvFIfJrkA-pccFhU=s64",
      "userId": "17109198128714142667"
     },
     "user_tz": -60
    },
    "id": "232qYekFohEn",
    "outputId": "629aeb1b-33a8-4628-cb22-905735062303"
   },
   "outputs": [
    {
     "name": "stdout",
     "output_type": "stream",
     "text": [
      "Highly correlated features: emg_Autocorrelation; emg_ECDF Percentile Count_1; emg_ECDF_1; emg_ECDF_2; emg_ECDF_3; emg_ECDF_5; emg_ECDF_6; emg_ECDF_7; emg_ECDF_8; emg_ECDF_9; emg_FFT mean coefficient_105; emg_FFT mean coefficient_11; emg_FFT mean coefficient_113; emg_FFT mean coefficient_115; emg_FFT mean coefficient_123; emg_FFT mean coefficient_126; emg_FFT mean coefficient_127; emg_FFT mean coefficient_128; emg_FFT mean coefficient_130; emg_FFT mean coefficient_133; emg_FFT mean coefficient_135; emg_FFT mean coefficient_137; emg_FFT mean coefficient_139; emg_FFT mean coefficient_141; emg_FFT mean coefficient_142; emg_FFT mean coefficient_144; emg_FFT mean coefficient_146; emg_FFT mean coefficient_147; emg_FFT mean coefficient_149; emg_FFT mean coefficient_150; emg_FFT mean coefficient_152; emg_FFT mean coefficient_154; emg_FFT mean coefficient_158; emg_FFT mean coefficient_162; emg_FFT mean coefficient_163; emg_FFT mean coefficient_164; emg_FFT mean coefficient_171; emg_FFT mean coefficient_172; emg_FFT mean coefficient_173; emg_FFT mean coefficient_174; emg_FFT mean coefficient_175; emg_FFT mean coefficient_176; emg_FFT mean coefficient_179; emg_FFT mean coefficient_180; emg_FFT mean coefficient_182; emg_FFT mean coefficient_183; emg_FFT mean coefficient_184; emg_FFT mean coefficient_186; emg_FFT mean coefficient_188; emg_FFT mean coefficient_189; emg_FFT mean coefficient_190; emg_FFT mean coefficient_191; emg_FFT mean coefficient_192; emg_FFT mean coefficient_196; emg_FFT mean coefficient_198; emg_FFT mean coefficient_199; emg_FFT mean coefficient_200; emg_FFT mean coefficient_202; emg_FFT mean coefficient_203; emg_FFT mean coefficient_204; emg_FFT mean coefficient_205; emg_FFT mean coefficient_207; emg_FFT mean coefficient_21; emg_FFT mean coefficient_213; emg_FFT mean coefficient_216; emg_FFT mean coefficient_217; emg_FFT mean coefficient_218; emg_FFT mean coefficient_222; emg_FFT mean coefficient_223; emg_FFT mean coefficient_224; emg_FFT mean coefficient_225; emg_FFT mean coefficient_226; emg_FFT mean coefficient_227; emg_FFT mean coefficient_228; emg_FFT mean coefficient_229; emg_FFT mean coefficient_230; emg_FFT mean coefficient_232; emg_FFT mean coefficient_233; emg_FFT mean coefficient_235; emg_FFT mean coefficient_236; emg_FFT mean coefficient_26; emg_FFT mean coefficient_30; emg_FFT mean coefficient_33; emg_FFT mean coefficient_34; emg_FFT mean coefficient_37; emg_FFT mean coefficient_38; emg_FFT mean coefficient_39; emg_FFT mean coefficient_40; emg_FFT mean coefficient_41; emg_FFT mean coefficient_44; emg_FFT mean coefficient_45; emg_FFT mean coefficient_46; emg_FFT mean coefficient_48; emg_FFT mean coefficient_49; emg_FFT mean coefficient_50; emg_FFT mean coefficient_52; emg_FFT mean coefficient_53; emg_FFT mean coefficient_54; emg_FFT mean coefficient_55; emg_FFT mean coefficient_56; emg_FFT mean coefficient_57; emg_FFT mean coefficient_58; emg_FFT mean coefficient_59; emg_FFT mean coefficient_60; emg_FFT mean coefficient_61; emg_FFT mean coefficient_62; emg_FFT mean coefficient_63; emg_FFT mean coefficient_64; emg_FFT mean coefficient_65; emg_FFT mean coefficient_66; emg_FFT mean coefficient_68; emg_FFT mean coefficient_69; emg_FFT mean coefficient_7; emg_FFT mean coefficient_70; emg_FFT mean coefficient_71; emg_FFT mean coefficient_72; emg_FFT mean coefficient_73; emg_FFT mean coefficient_74; emg_FFT mean coefficient_75; emg_FFT mean coefficient_76; emg_FFT mean coefficient_77; emg_FFT mean coefficient_78; emg_FFT mean coefficient_79; emg_FFT mean coefficient_8; emg_FFT mean coefficient_80; emg_FFT mean coefficient_81; emg_FFT mean coefficient_82; emg_FFT mean coefficient_83; emg_FFT mean coefficient_84; emg_FFT mean coefficient_85; emg_FFT mean coefficient_86; emg_FFT mean coefficient_87; emg_FFT mean coefficient_88; emg_FFT mean coefficient_89; emg_FFT mean coefficient_9; emg_FFT mean coefficient_90; emg_FFT mean coefficient_91; emg_FFT mean coefficient_92; emg_FFT mean coefficient_93; emg_FFT mean coefficient_94; emg_FFT mean coefficient_95; emg_FFT mean coefficient_96; emg_FFT mean coefficient_97; emg_FFT mean coefficient_98; emg_FFT mean coefficient_99; emg_Histogram_1; emg_Histogram_8; emg_Interquartile range; emg_LPCC_11; emg_LPCC_2; emg_LPCC_7; emg_LPCC_8; emg_LPCC_9; emg_Mean absolute deviation; emg_Median absolute deviation; emg_Median absolute diff; emg_Minimum peaks; emg_Peak to peak distance; emg_Root mean square; emg_Signal distance; emg_Spectral distance; emg_Spectral roll-off; emg_Spectral skewness; emg_Spectral slope; emg_Standard deviation; emg_Sum absolute diff; emg_Total energy; emg_Variance; emg_Wavelet absolute mean_3; emg_Wavelet absolute mean_4; emg_Wavelet absolute mean_5; emg_Wavelet absolute mean_6; emg_Wavelet absolute mean_7; emg_Wavelet absolute mean_8; emg_Wavelet energy_0; emg_Wavelet energy_1; emg_Wavelet energy_2; emg_Wavelet energy_3; emg_Wavelet energy_4; emg_Wavelet energy_5; emg_Wavelet energy_6; emg_Wavelet energy_7; emg_Wavelet energy_8; emg_Wavelet standard deviation_0; emg_Wavelet standard deviation_1; emg_Wavelet standard deviation_2; emg_Wavelet standard deviation_3; emg_Wavelet standard deviation_4; emg_Wavelet standard deviation_5; emg_Wavelet standard deviation_6; emg_Wavelet standard deviation_7; emg_Wavelet standard deviation_8; emg_Wavelet variance_0; emg_Wavelet variance_1; emg_Wavelet variance_2; emg_Wavelet variance_3; emg_Wavelet variance_6; emg_Wavelet variance_7; emg_Wavelet variance_8; gon_Area under the curve; gon_Autocorrelation; gon_ECDF Percentile Count_1; gon_ECDF_0; gon_ECDF_1; gon_ECDF_2; gon_ECDF_3; gon_ECDF_4; gon_ECDF_5; gon_ECDF_6; gon_ECDF_7; gon_ECDF_8; gon_ECDF_9; gon_FFT mean coefficient_10; gon_FFT mean coefficient_14; gon_FFT mean coefficient_15; gon_FFT mean coefficient_16; gon_FFT mean coefficient_17; gon_FFT mean coefficient_2; gon_FFT mean coefficient_232; gon_FFT mean coefficient_233; gon_FFT mean coefficient_3; gon_FFT mean coefficient_5; gon_FFT mean coefficient_6; gon_FFT mean coefficient_7; gon_FFT mean coefficient_8; gon_FFT mean coefficient_9; gon_LPCC_11; gon_LPCC_2; gon_LPCC_7; gon_LPCC_8; gon_LPCC_9; gon_Max; gon_Mean; gon_Mean absolute deviation; gon_Median; gon_Median frequency; gon_Min; gon_Minimum peaks; gon_Peak to peak distance; gon_Root mean square; gon_Signal distance; gon_Slope; gon_Spectral roll-off; gon_Spectral skewness; gon_Spectral slope; gon_Spectral spread; gon_Standard deviation; gon_Sum absolute diff; gon_Total energy; gon_Variance; gon_Wavelet absolute mean_0; gon_Wavelet absolute mean_1; gon_Wavelet absolute mean_2; gon_Wavelet absolute mean_3; gon_Wavelet absolute mean_4; gon_Wavelet absolute mean_5; gon_Wavelet absolute mean_6; gon_Wavelet absolute mean_7; gon_Wavelet absolute mean_8; gon_Wavelet energy_0; gon_Wavelet energy_1; gon_Wavelet energy_2; gon_Wavelet energy_3; gon_Wavelet energy_4; gon_Wavelet energy_5; gon_Wavelet energy_6; gon_Wavelet energy_7; gon_Wavelet energy_8; gon_Wavelet standard deviation_0; gon_Wavelet standard deviation_1; gon_Wavelet standard deviation_2; gon_Wavelet standard deviation_3; gon_Wavelet standard deviation_4; gon_Wavelet standard deviation_5; gon_Wavelet standard deviation_6; gon_Wavelet standard deviation_7; gon_Wavelet standard deviation_8; gon_Wavelet variance_0; gon_Wavelet variance_1; gon_Wavelet variance_2; gon_Wavelet variance_3; gon_Wavelet variance_4; gon_Wavelet variance_5; gon_Wavelet variance_6; gon_Wavelet variance_7; gon_Wavelet variance_8\n"
     ]
    }
   ],
   "source": [
    "# @title Removal of highly correlated features\n",
    "corr_features = tsfel.correlated_features(X_train)\n",
    "print('Highly correlated features: ' + '; '.join(corr_features))\n",
    "for rej in corr_features:\n",
    "    X_train = X_train.drop(rej, axis=1)\n",
    "    X_test = X_test.drop(rej, axis=1)"
   ]
  },
  {
   "cell_type": "code",
   "execution_count": 10,
   "metadata": {},
   "outputs": [],
   "source": [
    "#@title Remove low variance features\n",
    "selector = VarianceThreshold()\n",
    "X_train = selector.fit_transform(X_train)\n",
    "X_test = selector.transform(X_test)"
   ]
  },
  {
   "cell_type": "code",
   "execution_count": 11,
   "metadata": {
    "colab": {},
    "colab_type": "code",
    "id": "axOR0AONmoqx"
   },
   "outputs": [],
   "source": [
    "#@title Normalising Features\n",
    "min_max_scaler = preprocessing.StandardScaler()\n",
    "nX_train = min_max_scaler.fit_transform(X_train)\n",
    "nX_test = min_max_scaler.transform(X_test)"
   ]
  },
  {
   "cell_type": "markdown",
   "metadata": {
    "colab_type": "text",
    "id": "whXQ6hI1m2bM"
   },
   "source": [
    "### Using Decision Tree classifier"
   ]
  },
  {
   "cell_type": "code",
   "execution_count": 12,
   "metadata": {
    "colab": {
     "base_uri": "https://localhost:8080/",
     "height": 185
    },
    "colab_type": "code",
    "executionInfo": {
     "elapsed": 833,
     "status": "ok",
     "timestamp": 1586777540937,
     "user": {
      "displayName": "Leticia Fernandes",
      "photoUrl": "https://lh3.googleusercontent.com/a-/AOh14Gj3U_hSW1M2-Ab0tHYcZEiOzvFIfJrkA-pccFhU=s64",
      "userId": "17109198128714142667"
     },
     "user_tz": -60
    },
    "id": "82aqGd22mrZ_",
    "outputId": "2eb49883-706e-47f8-e67b-a1d7644fef54"
   },
   "outputs": [
    {
     "name": "stdout",
     "output_type": "stream",
     "text": [
      "              precision    recall  f1-score   support\n",
      "\n",
      "      Normal       1.00      1.00      1.00        40\n",
      "Pathological       1.00      1.00      1.00        37\n",
      "\n",
      "   micro avg       1.00      1.00      1.00        77\n",
      "   macro avg       1.00      1.00      1.00        77\n",
      "weighted avg       1.00      1.00      1.00        77\n",
      "\n",
      "Accuracy: 100.0%\n"
     ]
    }
   ],
   "source": [
    "classifier = DecisionTreeClassifier()\n",
    "\n",
    "# Train the classifier\n",
    "classifier.fit(nX_train, y_train.ravel())\n",
    "\n",
    "# Predict on test data\n",
    "y_predict = classifier.predict(nX_test)\n",
    "\n",
    "condition_labels = ['Normal', 'Pathological']\n",
    "\n",
    "# Get the classification report\n",
    "accuracy = accuracy_score(y_test, y_predict) * 100\n",
    "print(classification_report(y_test, y_predict, target_names = condition_labels))\n",
    "print(\"Accuracy: \" + str(accuracy) + '%')"
   ]
  },
  {
   "cell_type": "code",
   "execution_count": 13,
   "metadata": {
    "colab": {
     "base_uri": "https://localhost:8080/",
     "height": 338
    },
    "colab_type": "code",
    "executionInfo": {
     "elapsed": 1111,
     "status": "ok",
     "timestamp": 1586777544492,
     "user": {
      "displayName": "Leticia Fernandes",
      "photoUrl": "https://lh3.googleusercontent.com/a-/AOh14Gj3U_hSW1M2-Ab0tHYcZEiOzvFIfJrkA-pccFhU=s64",
      "userId": "17109198128714142667"
     },
     "user_tz": -60
    },
    "id": "LqQAkWDsm8hw",
    "outputId": "9d2b8e80-d5b5-49ca-8668-a2b511b649e8"
   },
   "outputs": [
    {
     "data": {
      "image/png": "[encoded data removed]",
      "text/plain": [
       "<Figure size 432x288 with 2 Axes>"
      ]
     },
     "metadata": {
      "needs_background": "light"
     },
     "output_type": "display_data"
    }
   ],
   "source": [
    "#@title Confusion Matrix\n",
    "cm = confusion_matrix(y_test, y_predict)\n",
    "df_cm = pd.DataFrame(cm, index=[i for i in condition_labels], columns = [i for i in condition_labels])\n",
    "plt.figure()\n",
    "ax = sns.heatmap(df_cm, cbar = True, cmap=\"BuGn\", annot = True, fmt = 'd')\n",
    "plt.setp(ax.get_xticklabels(), rotation = 90)\n",
    "plt.ylabel('True label', fontweight = 'bold', fontsize = 18)\n",
    "plt.xlabel('Predicted label', fontweight = 'bold', fontsize = 18)\n",
    "bottom, top = ax.get_ylim()\n",
    "ax.set_ylim(bottom + 0.5, top - 0.5)\n",
    "plt.show()"
   ]
  },
  {
   "cell_type": "markdown",
   "metadata": {
    "colab_type": "text",
    "id": "WDvM1J2unCDr"
   },
   "source": [
    "All features domains were used in the feature extraction step. Accordingly, the Decision Tree classifier obtained high accuracy and was able to distinguish between normal and pathological knee condition during the extension of the leg from the sit position activity."
   ]
  }
 ],
 "metadata": {
  "colab": {
   "collapsed_sections": [],
   "name": "TSFEL_predicting_NormalVsPathologicalkneeold.ipynb",
   "provenance": []
  },
  "kernelspec": {
   "display_name": "Python 3",
   "language": "python",
   "name": "python3"
  },
  "language_info": {
   "codemirror_mode": {
    "name": "ipython",
    "version": 3
   },
   "file_extension": ".py",
   "mimetype": "text/x-python",
   "name": "python",
   "nbconvert_exporter": "python",
   "pygments_lexer": "ipython3",
   "version": "3.7.3"
  }
 },
 "nbformat": 4,
 "nbformat_minor": 1
}
