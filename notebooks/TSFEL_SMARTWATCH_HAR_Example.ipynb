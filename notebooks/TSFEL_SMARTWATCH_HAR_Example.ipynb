{
 "cells": [
  {
   "cell_type": "markdown",
   "metadata": {
    "id": "0xhqQ_JO8KCC",
    "colab_type": "text"
   },
   "source": [
    "# Smartwatch Activity Recognition using TSFEL\n",
    "\n",
    "On this example we will perform Human Activty Recognition using our library **Time Series Feature Extraction Library**.\n",
    "\n",
    "To perform this example every cell must be executed. To do so click run ([  ]) in the top left of every cell.\n",
    "\n",
    "The first step consists on importing the library. To do that press play. \n",
    "\n",
    "The import can take a few seconds, but the run button will change so that you know the import has started and ended.\n",
    "\n",
    "A warning will appear to reset all runtimes before running, click to accept."
   ]
  },
  {
   "cell_type": "markdown",
   "metadata": {
    "id": "efUBgAg-JDRu",
    "colab_type": "text"
   },
   "source": [
    "#Imports"
   ]
  },
  {
   "cell_type": "code",
   "execution_count": 0,
   "metadata": {
    "id": "BLXyuq1x5N0w",
    "colab_type": "code",
    "colab": {},
    "cellView": "both"
   },
   "outputs": [],
   "source": [
    "#@title Import Time Series Feature Extraction Library\n",
    "import warnings\n",
    "warnings.filterwarnings('ignore')\n",
    "!pip install https://github.com/fraunhoferportugal/tsfel/archive/v0.1.3-dev.zip 2>&1\n",
    "!wget https://archive.ics.uci.edu/ml/machine-learning-databases/00507/wisdm-dataset.zip >/dev/null 2>&1"
   ]
  },
  {
   "cell_type": "markdown",
   "metadata": {
    "id": "OIFaOYbDJTOI",
    "colab_type": "text"
   },
   "source": [
    "To check if everything was correctly imported, access \"Files\" (on the left side of the screen) and press \"Refresh\". If UCI HAR Dataset folder does not appear run Import Time Series Features library again."
   ]
  },
  {
   "cell_type": "code",
   "execution_count": 0,
   "metadata": {
    "id": "uHCWyijP6u75",
    "colab_type": "code",
    "colab": {}
   },
   "outputs": [],
   "source": [
    "# Import libraries\n",
    "import glob\n",
    "import pandas as pd\n",
    "import numpy as np\n",
    "import tsfel\n",
    "import zipfile\n",
    "import matplotlib.pyplot as plt\n",
    "import seaborn as sns\n",
    "import itertools\n",
    "from scipy import interpolate\n",
    "from sklearn.metrics import classification_report, confusion_matrix, accuracy_score\n",
    "from sklearn.ensemble import RandomForestClassifier\n",
    "\n",
    "# Unzip dataset\n",
    "zip_ref = zipfile.ZipFile(\"wisdm-dataset.zip\", 'r')\n",
    "zip_ref.extractall()\n",
    "zip_ref.close()"
   ]
  },
  {
   "cell_type": "markdown",
   "metadata": {
    "id": "VU4C5Vhg0nCe",
    "colab_type": "text"
   },
   "source": [
    "#Auxiliary Methods"
   ]
  },
  {
   "cell_type": "markdown",
   "metadata": {
    "id": "pzEwY5rz0A2o",
    "colab_type": "text"
   },
   "source": [
    "**Data pre-processing**\n",
    "\n",
    "Method to interpolate accelerometer and gyroscope data to the same time interval."
   ]
  },
  {
   "cell_type": "code",
   "execution_count": 0,
   "metadata": {
    "id": "C3K28ULAezRz",
    "colab_type": "code",
    "colab": {}
   },
   "outputs": [],
   "source": [
    "def pre_process_data(data_acc, data_gyro, fs):\n",
    "  \"\"\"This function interpolates the accelerometer and gyroscope data to \n",
    "  the same time interval.\n",
    "\n",
    "  Parameters\n",
    "  ----------\n",
    "  data_acc nd-array\n",
    "    Accelerometer data of specified activity\n",
    "  data_gyro nd-array\n",
    "    Gyroscope data of specified activity\n",
    "  fs int\n",
    "    Sampling frequency\n",
    "\n",
    "  Returns\n",
    "  -------\n",
    "    Interpolated data (nd-array)\n",
    "\n",
    "  \"\"\"\n",
    "\n",
    "  time_acc = (data_acc[:, 2])/1e9 - data_acc[0, 2]/1e9\n",
    "  data_act_acc = data_acc[:, 3:]\n",
    "\n",
    "  time_gyro = (data_gyro[:, 2])/1e9 - data_gyro[0, 2]/1e9\n",
    "  data_act_gyro = data_gyro[:, 3:]\n",
    "\n",
    "  # time interval for interpolation\n",
    "  t0 = np.max([time_acc[0], time_gyro[0]])\n",
    "  tn = np.min([time_acc[-1], time_gyro[-1]])\n",
    "  time_new = np.linspace(t0, tn, int((tn - t0) / ((1 / fs))))\n",
    "\n",
    "  # interpolation\n",
    "  acc_data = np.array([interpolate.interp1d(time_acc, data_act_acc[:, ax])(time_new) for ax in range(np.shape(data_act_acc)[1])]).T\n",
    "  gyro_data = np.array([interpolate.interp1d(time_gyro, data_act_gyro[:, ax])(time_new) for ax in range(np.shape(data_act_gyro)[1])]).T\n",
    "\n",
    "  # concatenate interpolated data\n",
    "  data = np.concatenate((acc_data, gyro_data), axis = 1)\n",
    "\n",
    "  return data"
   ]
  },
  {
   "cell_type": "markdown",
   "metadata": {
    "id": "8icnlxRdwxD-",
    "colab_type": "text"
   },
   "source": [
    "**Renaming features keys according to sensor names**"
   ]
  },
  {
   "cell_type": "code",
   "execution_count": 0,
   "metadata": {
    "id": "FCQxiHc8loYK",
    "colab_type": "code",
    "colab": {}
   },
   "outputs": [],
   "source": [
    "def update_features_names(features, sensor_names):\n",
    "  \"\"\"This function updates features keys according to sensor names.\n",
    "\n",
    "  Parameters\n",
    "  ----------\n",
    "    features DataFrame\n",
    "    sensor_names Dict\n",
    "      dictionary whose keys are the old sensor name and values are \n",
    "      the new sensor name.\n",
    "\n",
    "  Returns\n",
    "  -------\n",
    "    features Dataframe with updated keys\n",
    "  \"\"\"\n",
    "  features_names = '-'.join(list(features.keys()))\n",
    "\n",
    "  for i in range(len(sensor_names)):\n",
    "    features_names = features_names.replace(list(sensor_names.keys())[i], list(sensor_names.values())[i])\n",
    "  features_names = features_names.split('-')\n",
    "\n",
    "  for j in range(len(features_names)):\n",
    "    features = features.rename(columns={list(features.keys())[j]: features_names[j]}) \n",
    "\n",
    "  return features\n"
   ]
  },
  {
   "cell_type": "markdown",
   "metadata": {
    "id": "v4ZXPFiQ9GKB",
    "colab_type": "text"
   },
   "source": [
    "# Dataset\n",
    "\n",
    "The dataset we will be using is open-source. It is provided by UCI and it was performed by 51 subjects using a smartphone on their pocket and a smartwatch on their dominant hand. It contains a total of 18 activities whose labels are given by the following letters:\n",
    "\n",
    "* Walking = A\n",
    "* Jogging = B\n",
    "* Stairs = C\n",
    "* Sitting = D\n",
    "* Standing = E\n",
    "* Typing = F\n",
    "* Brushing Teeth = G\n",
    "* Eating Soup = H\n",
    "* Eating Chips = I\n",
    "* Eating Pasta = J\n",
    "* Drinking from Cup = K\n",
    "* Eating Sandwich = L\n",
    "* Kicking Soccer Ball = M\n",
    "* Playing Catch w/Tennis Ball = O\n",
    "* Dribblinlg Basketball = P\n",
    "* Writing = Q\n",
    "* Clapping = R\n",
    "* Folding Clothes = S\n",
    "\n",
    "For this classification problem only the smartwatch data will be used.\n",
    "\n",
    "The dataset used in this example can be found [here](https://archive.ics.uci.edu/ml/datasets/WISDM+Smartphone+and+Smartwatch+Activity+and+Biometrics+Dataset+)."
   ]
  },
  {
   "cell_type": "markdown",
   "metadata": {
    "id": "HP8TVkfS_JfZ",
    "colab_type": "text"
   },
   "source": [
    "# Load Data\n",
    "\n",
    "Files from accelerometer and gyroscope of the smartwatch will be loaded.\n"
   ]
  },
  {
   "cell_type": "code",
   "execution_count": 0,
   "metadata": {
    "id": "VuHASTlb8Cir",
    "colab_type": "code",
    "colab": {}
   },
   "outputs": [],
   "source": [
    "# Loading smartwatch data files\n",
    "watch_files_acc = np.sort(glob.glob('wisdm-dataset/raw/watch/accel' + \"*/**.txt\", recursive=True))\n",
    "watch_files_gyro = np.sort(glob.glob('wisdm-dataset/raw/watch/gyro' + \"*/**.txt\", recursive=True))\n"
   ]
  },
  {
   "cell_type": "markdown",
   "metadata": {
    "id": "dwDtDMuPdnrq",
    "colab_type": "text"
   },
   "source": [
    "#Defining train and test\n",
    "\n",
    "Data will be splitted into equal sized windows according to the performed activity.\n",
    "\n",
    "Train and Test sets will be defined."
   ]
  },
  {
   "cell_type": "code",
   "execution_count": 0,
   "metadata": {
    "id": "aOXhXZX78PFU",
    "colab_type": "code",
    "colab": {}
   },
   "outputs": [],
   "source": [
    "all_acc_data = [np.array(pd.read_csv(acc_file, header = None, delimiter = ',', comment=';')) for acc_file in watch_files_acc]\n",
    "all_gyro_data = [np.array(pd.read_csv(gyro_file, header = None, delimiter = ',', comment=';')) for gyro_file in watch_files_gyro]\n",
    "\n",
    "x_test = []\n",
    "x_train = []\n",
    "y_test = []\n",
    "y_train = []\n",
    "activities = np.unique(np.vstack(all_acc_data)[:,1]).astype(str)\n",
    "ntrain = 45\n",
    "fs = 20  # According to dataset information\n",
    "overlap = 0\n",
    "ws = 200  # 10 second windows\n",
    "\n",
    "for acq, (acc_data, gyro_data) in enumerate(zip(all_acc_data, all_gyro_data)):\n",
    "\n",
    "  windows = []\n",
    "  labels = []\n",
    "\n",
    "  for act in activities:\n",
    "    \n",
    "    act_acc, act_gyro = np.where(acc_data == act)[0], np.where(gyro_data == act)[0]\n",
    "    acc_data_act, gyro_data_act = acc_data[act_acc, :], gyro_data[act_gyro, :]\n",
    "    ids_act_acc = np.append(0, np.where(np.diff(act_acc) > 1)[0]+1)\n",
    "    ids_act_gyro = np.append(0, np.where(np.diff(act_gyro) > 1)[0]+1)\n",
    "\n",
    "    if len(act_acc) == 0 or len(act_gyro) == 0:\n",
    "      continue\n",
    "\n",
    "    # Only one acquisition of act\n",
    "    if (len(ids_act_gyro) == 1) and (len(ids_act_acc) == 1):\n",
    "      data = pre_process_data(acc_data_act, gyro_data_act, fs)\n",
    "      w = tsfel.signal_window_spliter(data.astype(float), ws, overlap) \n",
    "      windows.append(w)\n",
    "      labels.append(np.repeat(act, len(w)))\n",
    "    else:\n",
    "      # More than one acquisition of act\n",
    "      acc_data_acts = [acc_data_act[ids_act_acc[i]:ids_act_acc[i+1], :] for i in range(len(ids_act_acc)-1)]\n",
    "      gyro_data_acts = [gyro_data_act[ids_act_gyro[i]:ids_act_gyro[i+1], :] for i in range(len(ids_act_gyro)-1)]\n",
    "\n",
    "      for acc_data_act, gyro_data_act in zip(acc_data_acts, gyro_data_acts):\n",
    "        data = pre_process_data(acc_data_act, gyro_data_act, fs)\n",
    "        w = tsfel.signal_window_spliter(data.astype(float), ws, overlap)   \n",
    "        windows.append(w)\n",
    "        labels.append(np.repeat(act, len(w)))\n",
    "  \n",
    "  # Consider ntrain acquisitions for train and the remaining for test\n",
    "  if acq <= ntrain:\n",
    "    x_train.append(windows)\n",
    "    y_train.append(np.hstack(labels))\n",
    "  else:\n",
    "    x_test.append(windows)\n",
    "    y_test.append(np.hstack(labels))\n"
   ]
  },
  {
   "cell_type": "code",
   "execution_count": 0,
   "metadata": {
    "id": "nlntr1ea88KA",
    "colab_type": "code",
    "colab": {}
   },
   "outputs": [],
   "source": [
    "y_train = np.hstack(y_train)\n",
    "y_test = np.hstack(y_test)\n",
    "x_train = list(itertools.chain(*list(itertools.chain(*x_train))))\n",
    "x_test = list(itertools.chain(*list(itertools.chain(*x_test))))\n"
   ]
  },
  {
   "cell_type": "markdown",
   "metadata": {
    "id": "EwsNz0kwdhzq",
    "colab_type": "text"
   },
   "source": [
    "# Feature Extraction\n",
    "\n",
    "Through **Feature Extraction** methodologies, the data is translated into a feature vecture containing information about the signal properties of each window. These properties can be classifier according to their domain as Time, Frequency and Statistical features and allow to characterise the signal in a compact way, enhancing its chracteristics.\n",
    "\n",
    "In this classification problem only features from the temporal domain will be used as input to the machine learning classifier.\n"
   ]
  },
  {
   "cell_type": "code",
   "execution_count": 132,
   "metadata": {
    "id": "NHr4OvvXC8ax",
    "colab_type": "code",
    "outputId": "4647ac2a-ada9-4f0c-eda5-019d908082e6",
    "colab": {
     "base_uri": "https://localhost:8080/",
     "height": 221.0
    }
   },
   "outputs": [
    {
     "name": "stdout",
     "output_type": "stream",
     "text": [
      "*** Feature extraction started ***\n"
     ]
    },
    {
     "data": {
      "text/html": [
       "\n",
       "              <p>\n",
       "                  Progress: 100% Complete\n",
       "              <p/>            \n",
       "              <progress\n",
       "                  value='13889'\n",
       "                  max='13889',\n",
       "                  style='width: 25%',\n",
       "              >\n",
       "                  13889\n",
       "              </progress>\n",
       "\n",
       "    "
      ],
      "text/plain": [
       "<IPython.core.display.HTML object>"
      ]
     },
     "metadata": {
      "tags": []
     },
     "output_type": "execute_result"
    },
    {
     "name": "stdout",
     "output_type": "stream",
     "text": [
      "\n",
      "*** Feature extraction finished ***\n",
      "*** Feature extraction started ***\n"
     ]
    },
    {
     "data": {
      "text/html": [
       "\n",
       "              <p>\n",
       "                  Progress: 100% Complete\n",
       "              <p/>            \n",
       "              <progress\n",
       "                  value='1548'\n",
       "                  max='1548',\n",
       "                  style='width: 25%',\n",
       "              >\n",
       "                  1548\n",
       "              </progress>\n",
       "\n",
       "    "
      ],
      "text/plain": [
       "<IPython.core.display.HTML object>"
      ]
     },
     "metadata": {
      "tags": []
     },
     "output_type": "execute_result"
    },
    {
     "name": "stdout",
     "output_type": "stream",
     "text": [
      "\n",
      "*** Feature extraction finished ***\n"
     ]
    }
   ],
   "source": [
    "cfg_file = tsfel.get_features_by_domain('temporal')\n",
    "x_train_feat = tsfel.time_series_features_extractor(cfg_file, x_train, fs=fs)\n",
    "x_test_feat = tsfel.time_series_features_extractor(cfg_file, x_test, fs=fs)\n"
   ]
  },
  {
   "cell_type": "markdown",
   "metadata": {
    "id": "gR09UN0c4mTu",
    "colab_type": "text"
   },
   "source": [
    "# Feature Selection\n",
    "\n",
    "After the sensor data is extracted, redundancies and noise should be removed. Thus, minimising the algorithm's error, time and computational complexity. "
   ]
  },
  {
   "cell_type": "code",
   "execution_count": 0,
   "metadata": {
    "id": "f-P0ZqwtzEvd",
    "colab_type": "code",
    "colab": {}
   },
   "outputs": [],
   "source": [
    "sensor_names = {'0_':'accx_', '1_':'accy_', '2_':'accz_', '3_':'gyrox_', '4_':'gyroy_', '5_':'gyroz_'}\n",
    "x_train_feat = update_features_names(x_train_feat, sensor_names)\n",
    "x_test_feat = update_features_names(x_test_feat, sensor_names)\n"
   ]
  },
  {
   "cell_type": "markdown",
   "metadata": {
    "id": "KWgqzAXbdMBL",
    "colab_type": "text"
   },
   "source": [
    "**Removal of highly correlated features**\n",
    "\n"
   ]
  },
  {
   "cell_type": "code",
   "execution_count": 211,
   "metadata": {
    "id": "sPGaYs0Qx0z3",
    "colab_type": "code",
    "colab": {
     "base_uri": "https://localhost:8080/",
     "height": 638.0
    },
    "outputId": "068a90fd-62e3-416b-b644-a59dbaa1ae11"
   },
   "outputs": [
    {
     "name": "stdout",
     "output_type": "stream",
     "text": [
      "Do you wish to remove correlated features? Enter y/n: y\n",
      "Removing accx_Autocorrelation\n",
      "Removing accy_Autocorrelation\n",
      "Removing accz_Autocorrelation\n",
      "Removing gyrox_Autocorrelation\n",
      "Removing gyroy_Autocorrelation\n",
      "Removing gyroz_Autocorrelation\n",
      "Removing accx_Median absolute diff\n",
      "Removing accy_Median absolute diff\n",
      "Removing accz_Median absolute diff\n",
      "Removing gyrox_Median absolute diff\n",
      "Removing gyroy_Median absolute diff\n",
      "Removing gyroz_Median absolute diff\n",
      "Removing accx_Minimum peaks\n",
      "Removing accy_Minimum peaks\n",
      "Removing accz_Minimum peaks\n",
      "Removing gyrox_Minimum peaks\n",
      "Removing gyroy_Minimum peaks\n",
      "Removing gyroz_Minimum peaks\n",
      "Removing accx_Signal distance\n",
      "Removing accy_Signal distance\n",
      "Removing accz_Signal distance\n",
      "Removing gyrox_Signal distance\n",
      "Removing gyroy_Signal distance\n",
      "Removing gyroz_Signal distance\n",
      "Removing accx_Sum absolute diff\n",
      "Removing accy_Sum absolute diff\n",
      "Removing accz_Sum absolute diff\n",
      "Removing gyrox_Sum absolute diff\n",
      "Removing gyroy_Sum absolute diff\n",
      "Removing gyroz_Sum absolute diff\n",
      "Removing accx_Total energy\n",
      "Removing accy_Total energy\n",
      "Removing accz_Total energy\n",
      "Removing gyrox_Total energy\n",
      "Removing gyroy_Total energy\n",
      "Removing gyroz_Total energy\n"
     ]
    }
   ],
   "source": [
    "# Highly correlated features are removed\n",
    "X_train = tsfel.correlation_report(x_train_feat)\n",
    "features_to_keep = list(X_train.keys())\n",
    "X_test = x_test_feat[features_to_keep]\n"
   ]
  },
  {
   "cell_type": "markdown",
   "metadata": {
    "id": "SXlIBSJp7fzw",
    "colab_type": "text"
   },
   "source": [
    "# Features Normalization"
   ]
  },
  {
   "cell_type": "code",
   "execution_count": 0,
   "metadata": {
    "id": "FlgAbYlo6_5O",
    "colab_type": "code",
    "colab": {}
   },
   "outputs": [],
   "source": [
    "x_train_mean = np.mean(np.array(X_train), axis=0)\n",
    "x_train_std = np.std(np.array(X_train), axis=0)\n",
    "X_train = (X_train-x_train_mean)/x_train_std\n",
    "X_test = (X_test-x_train_mean)/x_train_std\n"
   ]
  },
  {
   "cell_type": "code",
   "execution_count": 0,
   "metadata": {
    "id": "m65w-61tfzXU",
    "colab_type": "code",
    "colab": {}
   },
   "outputs": [],
   "source": [
    "# Handling eventual missing values from the feature extraction\n",
    "X_train.replace([np.inf, -np.inf], np.nan, inplace=True)\n",
    "X_train.fillna(X_train.mean(), inplace=True)\n",
    "\n",
    "X_test.replace([np.inf, -np.inf], np.nan, inplace=True)\n",
    "X_test.fillna(X_test.mean(), inplace=True)\n"
   ]
  },
  {
   "cell_type": "markdown",
   "metadata": {
    "id": "0x1DJRJYjcWZ",
    "colab_type": "text"
   },
   "source": [
    "# Classification\n",
    "\n",
    "In this example the classification is performed with a [Random Forest](https://scikit-learn.org/stable/modules/generated/sklearn.ensemble.RandomForestClassifier.html) classifier."
   ]
  },
  {
   "cell_type": "code",
   "execution_count": 217,
   "metadata": {
    "id": "dxQJwbedb2wQ",
    "colab_type": "code",
    "colab": {
     "base_uri": "https://localhost:8080/",
     "height": 796.0
    },
    "outputId": "68be4ac1-8978-4f74-d374-16c77ac2e074"
   },
   "outputs": [
    {
     "name": "stdout",
     "output_type": "stream",
     "text": [
      "                 precision    recall  f1-score   support\n",
      "\n",
      "        walking       0.85      0.54      0.66        85\n",
      "        jogging       1.00      0.94      0.97        85\n",
      "         stairs       0.76      0.79      0.77        85\n",
      "        sitting       0.65      0.56      0.60        85\n",
      "       standing       0.62      0.84      0.71        85\n",
      "         typing       0.83      0.98      0.90        85\n",
      " brushing teeth       0.93      0.91      0.92        85\n",
      "    eating soup       0.71      0.49      0.58        85\n",
      "   eating chips       0.42      0.53      0.47        85\n",
      "   eating pasta       0.75      0.73      0.74        85\n",
      "       drinking       0.70      0.56      0.62        85\n",
      "eating sandwich       0.41      0.36      0.39        85\n",
      "        kicking       0.73      0.72      0.73       103\n",
      "  playing catch       0.81      0.94      0.87        85\n",
      "     dribblinlg       0.94      0.98      0.96        85\n",
      "        writing       0.96      0.96      0.96        85\n",
      "       clapping       0.88      0.93      0.90        85\n",
      "folding clothes       0.74      0.85      0.79        85\n",
      "\n",
      "       accuracy                           0.76      1548\n",
      "      macro avg       0.76      0.76      0.75      1548\n",
      "   weighted avg       0.76      0.76      0.75      1548\n",
      "\n",
      "Accuracy: 75.5813953488372%\n"
     ]
    },
    {
     "data": {
      "image/png": "[encoded data removed]",
      "text/plain": [
       "<Figure size 432x288 with 2 Axes>"
      ]
     },
     "metadata": {
      "tags": []
     },
     "output_type": "display_data"
    }
   ],
   "source": [
    "classifier = RandomForestClassifier()\n",
    "\n",
    "activities = ['walking', 'jogging', 'stairs', 'sitting', 'standing', 'typing', \n",
    "              'brushing teeth', 'eating soup', 'eating chips', 'eating pasta', \n",
    "              'drinking', 'eating sandwich', 'kicking', 'playing catch', \n",
    "              'dribblinlg', 'writing', 'clapping', 'folding clothes']\n",
    "\n",
    "# Train The Classifier\n",
    "classifier.fit(X_train, y_train.ravel())\n",
    "\n",
    "# Predict Test Data\n",
    "y_predict = classifier.predict(X_test)\n",
    "\n",
    "# Get the Classification Report\n",
    "accuracy = accuracy_score(y_test, y_predict)*100\n",
    "print(classification_report(y_test, y_predict, target_names = activities))\n",
    "print('Accuracy: ' + str(accuracy) + '%')\n",
    "\n",
    "# Confusion Matrix\n",
    "cm = confusion_matrix(y_test, y_predict)\n",
    "df_cm = pd.DataFrame(cm, index=[i for i in activities], columns = [i for i in activities])\n",
    "plt.figure()\n",
    "ax = sns.heatmap(df_cm, cbar=True, cmap=\"BuGn\", annot=True, fmt='d')\n",
    "plt.setp(ax.get_xticklabels(), rotation=90)\n",
    "plt.ylabel('Predicted label', fontweight='bold', fontsize=18)\n",
    "plt.xlabel('True label', fontweight='bold', fontsize=18)\n",
    "plt.show()\n"
   ]
  },
  {
   "cell_type": "markdown",
   "metadata": {
    "id": "KWIZUEj-LUlO",
    "colab_type": "text"
   },
   "source": [
    "# Conclusion"
   ]
  },
  {
   "cell_type": "markdown",
   "metadata": {
    "id": "mQMArVOn2YKb",
    "colab_type": "text"
   },
   "source": [
    "The final accuracy obtained by feeding a Random Forest classifier with only temporal domain features is around 75%.   \n",
    "\n",
    "As it can be seen in the confusion matrix, eating chips activity is the class with more misclassified samples. This activity is being mainly classified as eating sandwich activity, which is reasonable since both activities rely almost on the same hand movement.\n",
    "\n",
    "Although the overall results are satisfying, the increase of the classifier performance may be achieved by extracting features from all domains (temporal, statistical and spectral) and by including smartphone's data."
   ]
  }
 ],
 "metadata": {
  "colab": {
   "name": "TSFEL_SMARTWATCH_HAR_Example.ipynb",
   "provenance": [],
   "collapsed_sections": [],
   "toc_visible": true
  },
  "kernelspec": {
   "name": "python3",
   "display_name": "Python 3"
  }
 },
 "nbformat": 4,
 "nbformat_minor": 0
}
